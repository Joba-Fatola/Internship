{
 "cells": [
  {
   "cell_type": "code",
   "execution_count": 26,
   "id": "c6747dfa",
   "metadata": {},
   "outputs": [
    {
     "name": "stdout",
     "output_type": "stream",
     "text": [
      "Data Trained: Flip Robo Technologies Internship\n",
      "Python Worksheet 1 Solution\n",
      "Student Name: Oluwajoba Fatola\n"
     ]
    }
   ],
   "source": [
    "print(\"Data Trained: Flip Robo Technologies Internship\")\n",
    "print(\"Python Worksheet 1 Solution\")\n",
    "print(\"Student Name: Oluwajoba Fatola\")"
   ]
  },
  {
   "cell_type": "code",
   "execution_count": 25,
   "id": "fc93306c",
   "metadata": {},
   "outputs": [
    {
     "data": {
      "text/plain": [
       "0"
      ]
     },
     "execution_count": 25,
     "metadata": {},
     "output_type": "execute_result"
    }
   ],
   "source": [
    "2//3\n"
   ]
  },
  {
   "cell_type": "code",
   "execution_count": 2,
   "id": "bd6212a4",
   "metadata": {},
   "outputs": [
    {
     "data": {
      "text/plain": [
       "24"
      ]
     },
     "execution_count": 2,
     "metadata": {},
     "output_type": "execute_result"
    }
   ],
   "source": [
    "6<<2"
   ]
  },
  {
   "cell_type": "code",
   "execution_count": 3,
   "id": "0964e8ed",
   "metadata": {},
   "outputs": [
    {
     "data": {
      "text/plain": [
       "2"
      ]
     },
     "execution_count": 3,
     "metadata": {},
     "output_type": "execute_result"
    }
   ],
   "source": [
    "6&2"
   ]
  },
  {
   "cell_type": "code",
   "execution_count": 4,
   "id": "a590716d",
   "metadata": {},
   "outputs": [
    {
     "data": {
      "text/plain": [
       "6"
      ]
     },
     "execution_count": 4,
     "metadata": {},
     "output_type": "execute_result"
    }
   ],
   "source": [
    "6|2"
   ]
  },
  {
   "cell_type": "code",
   "execution_count": 18,
   "id": "4004cd2a",
   "metadata": {},
   "outputs": [
    {
     "name": "stdout",
     "output_type": "stream",
     "text": [
      "********************************************************\n",
      "Welcome!\n",
      "This program calculates the factorial of any number! \n",
      "********************************************************\n",
      "Enter a number (positive integer): 4.5\n",
      "Invalid input. Please enter a positive integer.\n",
      "Enter a number (positive integer): 6\n",
      "The factorial of 6 is 720\n"
     ]
    }
   ],
   "source": [
    "print(\"********************************************************\")\n",
    "print(\"Welcome!\")\n",
    "print(\"This program calculates the factorial of any number! \")\n",
    "print(\"********************************************************\")\n",
    "\n",
    "def factorial(n):\n",
    "    if n == 0:\n",
    "        return 1\n",
    "    else:\n",
    "        return n * factorial(n-1)\n",
    "\n",
    "# Take input from the user\n",
    "while True:\n",
    "    num_str = input(\"Enter a number (positive integer): \").strip()\n",
    "\n",
    "    try:\n",
    "        # Convert the input to float\n",
    "        num = int(num_str)\n",
    "\n",
    "        # Check if the number is a positive integer\n",
    "        if num >= 0:\n",
    "            result = factorial(num)\n",
    "            print(\"The factorial of\", num, \"is\", result)\n",
    "            break\n",
    "        else:\n",
    "            print(\"Factorial is not defined for negative numbers.\")\n",
    "    except ValueError:\n",
    "        print(\"Invalid input. Please enter a positive integer.\")"
   ]
  },
  {
   "cell_type": "code",
   "execution_count": 16,
   "id": "5972a7a9",
   "metadata": {},
   "outputs": [
    {
     "name": "stdout",
     "output_type": "stream",
     "text": [
      "********************************************************\n",
      "Welcome!\n",
      "This program finds whether a number is prime or composite! \n",
      "********************************************************\n",
      "Enter a positive integer: 7\n",
      "7 is a prime number.\n"
     ]
    }
   ],
   "source": [
    "print(\"********************************************************\")\n",
    "print(\"Welcome!\")\n",
    "print(\"This program finds whether a number is prime or composite! \")\n",
    "print(\"********************************************************\")\n",
    "\n",
    "def is_prime(num):\n",
    "    \"\"\"\n",
    "    Check if a number is prime or composite.\n",
    "    Returns True if the number is prime, False otherwise.\n",
    "    \"\"\"\n",
    "    if num <= 1:\n",
    "        return False\n",
    "    for i in range(2, int(num ** 0.5) + 1):\n",
    "        if num % i == 0:\n",
    "            return False\n",
    "    return True\n",
    "\n",
    "# Prompt the user to enter a positive integer\n",
    "num_str = input(\"Enter a positive integer: \")\n",
    "\n",
    "try:\n",
    "    # Convert the user input to an integer\n",
    "    num = int(num_str)\n",
    "    \n",
    "    # Check if the number is prime or composite using the is_prime() function\n",
    "    if is_prime(num):\n",
    "        print(num, \"is a prime number.\")\n",
    "    else:\n",
    "        print(num, \"is a composite number.\")\n",
    "except ValueError:\n",
    "    # Display an error message if the input is not a valid positive integer\n",
    "    print(\"Invalid input. Please enter a positive integer.\")\n"
   ]
  },
  {
   "cell_type": "code",
   "execution_count": 17,
   "id": "62f27165",
   "metadata": {},
   "outputs": [
    {
     "name": "stdout",
     "output_type": "stream",
     "text": [
      "********************************************************\n",
      "Welcome!\n",
      "This program finds whether a string is a palindrome or not! \n",
      "********************************************************\n",
      "Enter a string: My name is Jay \n",
      "The string is not a palindrome.\n"
     ]
    }
   ],
   "source": [
    "print(\"********************************************************\")\n",
    "print(\"Welcome!\")\n",
    "print(\"This program finds whether a string is a palindrome or not! \")\n",
    "print(\"********************************************************\")\n",
    "\n",
    "def is_palindrome(string):\n",
    "    \"\"\"\n",
    "    Check if a string is a palindrome.\n",
    "    Returns True if the string is a palindrome, False otherwise.\n",
    "    \"\"\"\n",
    "    # Remove any whitespace and convert the string to lowercase\n",
    "    string = string.replace(\" \", \"\").lower()\n",
    "    \n",
    "    # Reverse the string\n",
    "    reversed_string = string[::-1]\n",
    "    \n",
    "    # Compare the original string with the reversed string\n",
    "    if string == reversed_string:\n",
    "        return True\n",
    "    else:\n",
    "        return False\n",
    "\n",
    "# Prompt the user to enter a string\n",
    "string = input(\"Enter a string: \")\n",
    "\n",
    "# Check if the string is a palindrome using the is_palindrome() function\n",
    "if is_palindrome(string):\n",
    "    print(\"The string is a palindrome.\")\n",
    "else:\n",
    "    print(\"The string is not a palindrome.\")\n"
   ]
  },
  {
   "cell_type": "code",
   "execution_count": 20,
   "id": "7f8a72ea",
   "metadata": {},
   "outputs": [
    {
     "name": "stdout",
     "output_type": "stream",
     "text": [
      "********************************************************\n",
      "Welcome!\n",
      "Get the third side of a right angle triangle given lenth of 2 sides! \n",
      "********************************************************\n",
      "\n",
      "Enter the length of the first side: 3\n",
      "Enter the length of the second side: 2\n",
      "The length of the third side is: 3.605551275463989\n"
     ]
    }
   ],
   "source": [
    "# This program gets the third side of a right-angled triangle from two given sides.\n",
    "\n",
    "print(\"********************************************************\")\n",
    "print(\"Welcome!\")\n",
    "print(\"Get the third side of a right angle triangle given lenth of 2 sides! \")\n",
    "print(\"********************************************************\\n\")\n",
    "\n",
    "import math\n",
    "\n",
    "# This function calculates the length of the third side of a right-angled triangle.\n",
    "def calculate_third_side(a, b):\n",
    "    \"\"\"\n",
    "    Calculate the length of the third side of a right-angled triangle.\n",
    "    Returns the length of the third side.\n",
    "    \"\"\"\n",
    "    # Use the Pythagorean theorem: c^2 = a^2 + b^2\n",
    "    c = math.sqrt(a**2 + b**2)\n",
    "    return c\n",
    "\n",
    "# Prompt the user to enter the lengths of the two sides\n",
    "a = float(input(\"Enter the length of the first side: \"))\n",
    "b = float(input(\"Enter the length of the second side: \"))\n",
    "\n",
    "# Calculate the length of the third side using the calculate_third_side() function\n",
    "c = calculate_third_side(a, b)\n",
    "\n",
    "# Print the length of the third side\n",
    "print(\"The length of the third side is:\", c)\n"
   ]
  },
  {
   "cell_type": "code",
   "execution_count": 24,
   "id": "9e1d4bf5",
   "metadata": {},
   "outputs": [
    {
     "name": "stdout",
     "output_type": "stream",
     "text": [
      "Enter a string: Hippopotamus\n",
      "Character 'H' appears 1 times\n",
      "Character 'i' appears 1 times\n",
      "Character 'p' appears 3 times\n",
      "Character 'o' appears 2 times\n",
      "Character 't' appears 1 times\n",
      "Character 'a' appears 1 times\n",
      "Character 'm' appears 1 times\n",
      "Character 'u' appears 1 times\n",
      "Character 's' appears 1 times\n"
     ]
    }
   ],
   "source": [
    "def count_characters(string):\n",
    "    \"\"\"\n",
    "    Count the frequency of each character in a given string.\n",
    "    Prints the character and its frequency.\n",
    "    \"\"\"\n",
    "    # Create an empty dictionary to store the character frequencies\n",
    "    char_freq = {}\n",
    "\n",
    "    # Iterate over each character in the string\n",
    "    for char in string:\n",
    "        # Check if the character is already in the dictionary\n",
    "        if char in char_freq:\n",
    "            # Increment the frequency count of the character\n",
    "            char_freq[char] += 1\n",
    "        else:\n",
    "            # Add the character to the dictionary with a frequency count of 1\n",
    "            char_freq[char] = 1\n",
    "\n",
    "    # Print the character and its frequency\n",
    "    for char, freq in char_freq.items():\n",
    "        print(f\"Character '{char}' appears {freq} times\")\n",
    "\n",
    "# Prompt the user to enter a string\n",
    "input_string = input(\"Enter a string: \")\n",
    "\n",
    "# Call the count_characters() function to count the character frequencies\n",
    "count_characters(input_string)\n"
   ]
  },
  {
   "cell_type": "code",
   "execution_count": null,
   "id": "d5435192",
   "metadata": {},
   "outputs": [],
   "source": []
  }
 ],
 "metadata": {
  "kernelspec": {
   "display_name": "Python 3 (ipykernel)",
   "language": "python",
   "name": "python3"
  },
  "language_info": {
   "codemirror_mode": {
    "name": "ipython",
    "version": 3
   },
   "file_extension": ".py",
   "mimetype": "text/x-python",
   "name": "python",
   "nbconvert_exporter": "python",
   "pygments_lexer": "ipython3",
   "version": "3.9.13"
  }
 },
 "nbformat": 4,
 "nbformat_minor": 5
}

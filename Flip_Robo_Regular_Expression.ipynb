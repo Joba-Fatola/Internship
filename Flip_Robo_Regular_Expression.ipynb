{
  "nbformat": 4,
  "nbformat_minor": 0,
  "metadata": {
    "colab": {
      "provenance": []
    },
    "kernelspec": {
      "name": "python3",
      "display_name": "Python 3"
    },
    "language_info": {
      "name": "python"
    }
  },
  "cells": [
    {
      "cell_type": "code",
      "execution_count": 1,
      "metadata": {
        "colab": {
          "base_uri": "https://localhost:8080/"
        },
        "id": "fkmAaw9nHLpi",
        "outputId": "c9d784cd-9473-4600-ab0e-3756d9b36e5b"
      },
      "outputs": [
        {
          "output_type": "stream",
          "name": "stdout",
          "text": [
            "************************************\n",
            "  REGULAR EXPRESSION \n",
            "************************************\n",
            "  OLUWAJOBA FATOLA  \n",
            " Flip Robo Technology Internship\n",
            "\n",
            "\n"
          ]
        }
      ],
      "source": [
        "# REGULAR EXPRESSION ASSIGNMENT\n",
        "print(\"************************************\")\n",
        "print(\"  REGULAR EXPRESSION \")\n",
        "print(\"************************************\")\n",
        "print(\"  OLUWAJOBA FATOLA  \\n Flip Robo Technology Internship\")\n",
        "print(\"\\n\")"
      ]
    },
    {
      "cell_type": "code",
      "source": [
        "import regex as re"
      ],
      "metadata": {
        "id": "DzW8ChG3Hsp3"
      },
      "execution_count": 2,
      "outputs": []
    },
    {
      "cell_type": "markdown",
      "source": [
        "Question 1- Write a Python program to check that a string contains only a certain set of characters (in this case a-z, A-Z and 0-9)"
      ],
      "metadata": {
        "id": "3CuTprvKIcSk"
      }
    },
    {
      "cell_type": "code",
      "source": [
        "def contains_only_valid_characters(string):\n",
        "    # Define the regular expression pattern to match a string containing only a-z, A-Z, and 0-9 characters.\n",
        "    pattern = r'^[a-zA-Z0-9]+$'\n",
        "\n",
        "    # Attempt to match the pattern with the given string.\n",
        "    match = re.match(pattern, string)\n",
        "\n",
        "    # Return True if there is a match (string contains only valid characters), otherwise return False.\n",
        "    return match is not None\n",
        "\n",
        "# Example usage\n",
        "strings = [\"Hello8062\", \"goodMorning_456\", \"Test123\", \"123456\", \"!@#$%\"]\n",
        "\n",
        "for string in strings:\n",
        "    if contains_only_valid_characters(string):\n",
        "        # The string contains only valid characters.\n",
        "        print(f'The string \"{string}\" contains only a-z, A-Z, and 0-9 characters.')\n",
        "    else:\n",
        "        # The string contains characters other than a-z, A-Z, and 0-9.\n",
        "        print(f'The string \"{string}\" contains characters other than a-z, A-Z, and 0-9.')\n"
      ],
      "metadata": {
        "colab": {
          "base_uri": "https://localhost:8080/"
        },
        "id": "zTwYBvcMIJSY",
        "outputId": "a0782d17-d2a8-42d8-cebc-62ce3c600fd9"
      },
      "execution_count": 3,
      "outputs": [
        {
          "output_type": "stream",
          "name": "stdout",
          "text": [
            "The string \"Hello8062\" contains only a-z, A-Z, and 0-9 characters.\n",
            "The string \"goodMorning_456\" contains characters other than a-z, A-Z, and 0-9.\n",
            "The string \"Test123\" contains only a-z, A-Z, and 0-9 characters.\n",
            "The string \"123456\" contains only a-z, A-Z, and 0-9 characters.\n",
            "The string \"!@#$%\" contains characters other than a-z, A-Z, and 0-9.\n"
          ]
        }
      ]
    },
    {
      "cell_type": "markdown",
      "source": [
        "**Question 2**- Create a function in python that matches a string that has an a followed by zero or more b's"
      ],
      "metadata": {
        "id": "-5wemu0oLGmz"
      }
    },
    {
      "cell_type": "code",
      "source": [
        "def match_ab(string):\n",
        "    # Define the regular expression pattern to match a string that has an 'a' followed by zero or more 'b's.\n",
        "    pattern = r\"a(b)*\"\n",
        "\n",
        "    # Attempt to match the pattern with the given string.\n",
        "    match = re.match(pattern, string)\n",
        "\n",
        "    # Return True if there is a match (string matches the pattern), otherwise return False.\n",
        "    return match is not None\n",
        "\n",
        "# Example usage\n",
        "strings = [\"ab\", \"abb\", \"a\", \"ac\", \"b\", \"abc\", \"aab\", \"abbb\"]\n",
        "\n",
        "for string in strings:\n",
        "    if match_ab(string):\n",
        "        # The string matches the pattern \"a followed by zero or more b's\".\n",
        "        print(f'The string \"{string}\" matches the pattern \"a followed by zero or more b\\'s\".')\n",
        "    else:\n",
        "        # The string does not match the pattern \"a followed by zero or more b's\".\n",
        "        print(f'The string \"{string}\" does not match the pattern \"a followed by zero or more b\\'s\".')\n"
      ],
      "metadata": {
        "colab": {
          "base_uri": "https://localhost:8080/"
        },
        "id": "cK-dX2SvKHT9",
        "outputId": "71c7de2a-f81f-4286-8bf1-32134c87780b"
      },
      "execution_count": 4,
      "outputs": [
        {
          "output_type": "stream",
          "name": "stdout",
          "text": [
            "The string \"ab\" matches the pattern \"a followed by zero or more b's\".\n",
            "The string \"abb\" matches the pattern \"a followed by zero or more b's\".\n",
            "The string \"a\" matches the pattern \"a followed by zero or more b's\".\n",
            "The string \"ac\" matches the pattern \"a followed by zero or more b's\".\n",
            "The string \"b\" does not match the pattern \"a followed by zero or more b's\".\n",
            "The string \"abc\" matches the pattern \"a followed by zero or more b's\".\n",
            "The string \"aab\" matches the pattern \"a followed by zero or more b's\".\n",
            "The string \"abbb\" matches the pattern \"a followed by zero or more b's\".\n"
          ]
        }
      ]
    },
    {
      "cell_type": "markdown",
      "source": [
        "**Question 3**-  Create a function in python that matches a string that has an a followed by one or more b's"
      ],
      "metadata": {
        "id": "hYt8lg8CTR-x"
      }
    },
    {
      "cell_type": "code",
      "source": [
        "def match_string_with_ab(string):\n",
        "   # Define the regular expression pattern to match a string that has an 'a' followed by zero or more 'b's.\n",
        "    pattern = r\"a(b)*\"\n",
        "\n",
        "   # Attempt to match the pattern with the given string.\n",
        "    match = re.match(pattern, string)\n",
        "\n",
        "   # Return True if there is a match (string matches the pattern), otherwise return False.\n",
        "    return match is not None\n",
        "\n",
        "# Example usage\n",
        "strings = [\"ab\", \"abb\", \"a\", \"ac\", \"b\", \"abc\", \"aab\", \"abbb\"]\n",
        "\n",
        "for string in strings:\n",
        "    if match_string_with_ab(string):\n",
        "        # The string matches the pattern \"a followed by zero or more b's\".\n",
        "        print(f'The string \"{string}\" matches the pattern \"a followed by one or more b\\'s\".')\n",
        "    else:\n",
        "        # The string does not match the pattern \"a followed by zero or more b's\".\n",
        "        print(f'The string \"{string}\" does not match the pattern \"a followed by one or more b\\'s\".')\n"
      ],
      "metadata": {
        "colab": {
          "base_uri": "https://localhost:8080/"
        },
        "id": "lLUKlKfoTPqo",
        "outputId": "5652345e-33bb-486a-a896-3424704a92ae"
      },
      "execution_count": 5,
      "outputs": [
        {
          "output_type": "stream",
          "name": "stdout",
          "text": [
            "The string \"ab\" matches the pattern \"a followed by one or more b's\".\n",
            "The string \"abb\" matches the pattern \"a followed by one or more b's\".\n",
            "The string \"a\" matches the pattern \"a followed by one or more b's\".\n",
            "The string \"ac\" matches the pattern \"a followed by one or more b's\".\n",
            "The string \"b\" does not match the pattern \"a followed by one or more b's\".\n",
            "The string \"abc\" matches the pattern \"a followed by one or more b's\".\n",
            "The string \"aab\" matches the pattern \"a followed by one or more b's\".\n",
            "The string \"abbb\" matches the pattern \"a followed by one or more b's\".\n"
          ]
        }
      ]
    },
    {
      "cell_type": "markdown",
      "source": [
        "**Question 4**- Create a function in Python and use RegEx that matches a string that has an a followed by zero or one 'b'."
      ],
      "metadata": {
        "id": "wZGdg_pTZDfv"
      }
    },
    {
      "cell_type": "code",
      "source": [
        "def match_string_a_b(string):\n",
        "    # Define the regular expression pattern to match a string that starts with 'a' and is followed by zero or one 'b'.\n",
        "    pattern = r'^ab?$'\n",
        "\n",
        "    # Attempt to match the pattern with the given string.\n",
        "    match = re.match(pattern, string)\n",
        "\n",
        "    # Return True if there is a match (string matches the pattern), otherwise return False.\n",
        "    return match is not None\n",
        "\n",
        "# Example usage\n",
        "strings = [\"a\", \"ab\", \"abb\", \"ac\", \"b\", \"abc\", \"aab\", \"abbb\"]\n",
        "\n",
        "for string in strings:\n",
        "    if match_string_a_b(string):\n",
        "        # The string matches the pattern \"a followed by zero or one b\".\n",
        "        print(f'The string \"{string}\" matches the pattern \"a followed by zero or one b\".')\n",
        "    else:\n",
        "        # The string does not match the pattern \"a followed by zero or one b\".\n",
        "        print(f'The string \"{string}\" does not match the pattern \"a followed by zero or one b\".')\n",
        "\n"
      ],
      "metadata": {
        "colab": {
          "base_uri": "https://localhost:8080/"
        },
        "id": "0xv6b1o6Tfsn",
        "outputId": "b9073ee4-2eb6-41cf-9981-aab64bb97264"
      },
      "execution_count": 6,
      "outputs": [
        {
          "output_type": "stream",
          "name": "stdout",
          "text": [
            "The string \"a\" matches the pattern \"a followed by zero or one b\".\n",
            "The string \"ab\" matches the pattern \"a followed by zero or one b\".\n",
            "The string \"abb\" does not match the pattern \"a followed by zero or one b\".\n",
            "The string \"ac\" does not match the pattern \"a followed by zero or one b\".\n",
            "The string \"b\" does not match the pattern \"a followed by zero or one b\".\n",
            "The string \"abc\" does not match the pattern \"a followed by zero or one b\".\n",
            "The string \"aab\" does not match the pattern \"a followed by zero or one b\".\n",
            "The string \"abbb\" does not match the pattern \"a followed by zero or one b\".\n"
          ]
        }
      ]
    },
    {
      "cell_type": "markdown",
      "source": [
        "**Question 5**- Write a Python program that matches a string that has an a followed by three 'b'."
      ],
      "metadata": {
        "id": "UiLegrxEkakf"
      }
    },
    {
      "cell_type": "code",
      "source": [
        "def match_string_a_3b(string):\n",
        "    pattern = r'^abbb$'\n",
        "    match = re.match(pattern, string)\n",
        "    return match is not None\n",
        "\n",
        "# Example usage\n",
        "strings = [\"abbb\", \"abbbb\", \"ab\", \"abb\", \"abc\", \"aabbb\"]\n",
        "\n",
        "for string in strings:\n",
        "    if match_string_a_3b(string):\n",
        "        print(f'The string \"{string}\" matches the pattern \"a followed by three b\".')\n",
        "    else:\n",
        "        print(f'The string \"{string}\" does not match the pattern \"a followed by three b\".')\n"
      ],
      "metadata": {
        "colab": {
          "base_uri": "https://localhost:8080/"
        },
        "id": "tr0_bYrGkfKe",
        "outputId": "68895cd9-7b52-4059-a985-4fcb7355645e"
      },
      "execution_count": 7,
      "outputs": [
        {
          "output_type": "stream",
          "name": "stdout",
          "text": [
            "The string \"abbb\" matches the pattern \"a followed by three b\".\n",
            "The string \"abbbb\" does not match the pattern \"a followed by three b\".\n",
            "The string \"ab\" does not match the pattern \"a followed by three b\".\n",
            "The string \"abb\" does not match the pattern \"a followed by three b\".\n",
            "The string \"abc\" does not match the pattern \"a followed by three b\".\n",
            "The string \"aabbb\" does not match the pattern \"a followed by three b\".\n"
          ]
        }
      ]
    },
    {
      "cell_type": "markdown",
      "source": [
        "**Question 6**- Write a regular expression in Python to split a string into uppercase letters.\n",
        "\n",
        "Sample text: “ImportanceOfRegularExpressionsInPython”\n",
        "\n",
        "Output: [‘Importance’, ‘Of’, ‘Regular’, ‘Expression’, ‘In’, ‘Python’]\n"
      ],
      "metadata": {
        "id": "i-VKCjwllKaj"
      }
    },
    {
      "cell_type": "code",
      "source": [
        "sample_text = \"ImportanceOfRegularExpressionsInPython\"\n",
        "\n",
        "# Split the text using regular expression pattern\n",
        "split_text = re.findall(r'[A-Z][a-z]*', sample_text)\n",
        "\n",
        "# Check output\n",
        "split_text\n"
      ],
      "metadata": {
        "colab": {
          "base_uri": "https://localhost:8080/"
        },
        "id": "PcHoOIE9lJtI",
        "outputId": "9cad4d5a-2adc-4cd3-a63a-633184a93555"
      },
      "execution_count": 8,
      "outputs": [
        {
          "output_type": "execute_result",
          "data": {
            "text/plain": [
              "['Importance', 'Of', 'Regular', 'Expressions', 'In', 'Python']"
            ]
          },
          "metadata": {},
          "execution_count": 8
        }
      ]
    },
    {
      "cell_type": "markdown",
      "source": [
        "**Question 7**- Write a Python program that matches a string that has an a followed by two to three 'b'."
      ],
      "metadata": {
        "id": "huA_uSvHmBxX"
      }
    },
    {
      "cell_type": "code",
      "source": [
        "def match_string_a_2to3b(string):\n",
        "    # Define the regular expression pattern to match a string that starts with 'a' and is followed by two to three 'b'.\n",
        "    pattern = r'^ab{2,3}$'\n",
        "\n",
        "    # Attempt to match the pattern with the given string.\n",
        "    match = re.match(pattern, string)\n",
        "\n",
        "    # Return True if there is a match (string matches the pattern), otherwise return False.\n",
        "    return match is not None\n",
        "\n",
        "# Example usage\n",
        "strings = [\"abb\", \"abbb\", \"abbbb\", \"a\", \"abc\", \"aab\", \"abbab\"]\n",
        "\n",
        "for string in strings:\n",
        "    if match_string_a_2to3b(string):\n",
        "        # The string matches the pattern \"a followed by two to three b\".\n",
        "        print(f'The string \"{string}\" matches the pattern \"a followed by two to three b\".')\n",
        "    else:\n",
        "        # The string does not match the pattern \"a followed by two to three b\".\n",
        "        print(f'The string \"{string}\" does not match the pattern \"a followed by two to three b\".')\n"
      ],
      "metadata": {
        "colab": {
          "base_uri": "https://localhost:8080/"
        },
        "id": "zYoHcliKl1VJ",
        "outputId": "42c7e5c6-890f-4ff9-d1b8-2b4f4097f518"
      },
      "execution_count": 9,
      "outputs": [
        {
          "output_type": "stream",
          "name": "stdout",
          "text": [
            "The string \"abb\" matches the pattern \"a followed by two to three b\".\n",
            "The string \"abbb\" matches the pattern \"a followed by two to three b\".\n",
            "The string \"abbbb\" does not match the pattern \"a followed by two to three b\".\n",
            "The string \"a\" does not match the pattern \"a followed by two to three b\".\n",
            "The string \"abc\" does not match the pattern \"a followed by two to three b\".\n",
            "The string \"aab\" does not match the pattern \"a followed by two to three b\".\n",
            "The string \"abbab\" does not match the pattern \"a followed by two to three b\".\n"
          ]
        }
      ]
    },
    {
      "cell_type": "markdown",
      "source": [
        "**Question 8**- Write a Python program to find sequences of lowercase letters joined with a underscore."
      ],
      "metadata": {
        "id": "-r-SoneGnkfT"
      }
    },
    {
      "cell_type": "code",
      "source": [
        "def find_lowercase_sequences_with_underscore(string):\n",
        "    # Define the regular expression pattern to find lowercase letter sequences joined with an underscore.\n",
        "    pattern = r'[a-z]+_[a-z]+'\n",
        "\n",
        "    # Find all matches of the pattern in the given string.\n",
        "    matches = re.findall(pattern, string)\n",
        "\n",
        "    # Return the list of matches.\n",
        "    return matches\n",
        "\n",
        "# Example usage\n",
        "string = \"hello_world how_are_you doing_today with_fliprobo_Project\"\n",
        "sequences = find_lowercase_sequences_with_underscore(string)\n",
        "print(sequences)\n"
      ],
      "metadata": {
        "colab": {
          "base_uri": "https://localhost:8080/"
        },
        "id": "E9EpzL6InAVL",
        "outputId": "6c3810c0-6906-4629-e6ad-b69f4fd06a92"
      },
      "execution_count": 10,
      "outputs": [
        {
          "output_type": "stream",
          "name": "stdout",
          "text": [
            "['hello_world', 'how_are', 'doing_today', 'with_fliprobo']\n"
          ]
        }
      ]
    },
    {
      "cell_type": "markdown",
      "source": [
        "**Question 9**- Write a Python program that matches a string that has an 'a' followed by anything, ending in 'b'."
      ],
      "metadata": {
        "id": "5AQ6PCoIoY5J"
      }
    },
    {
      "cell_type": "code",
      "source": [
        "def match_string_a_end_with_b(string):\n",
        "    # Define the regular expression pattern to match a string that starts with 'a', followed by anything, and ending in 'b'.\n",
        "    pattern = r'^a.*b$'\n",
        "\n",
        "    # Attempt to match the pattern with the given string.\n",
        "    match = re.match(pattern, string)\n",
        "\n",
        "    # Return True if there is a match (string matches the pattern), otherwise return False.\n",
        "    return match is not None\n",
        "\n",
        "# Example usage\n",
        "strings = [\"abcdb\", \"a123b\", \"a1b\", \"a1b2\", \"abb\", \"acd\", \"bca\"]\n",
        "\n",
        "for string in strings:\n",
        "    if match_string_a_end_with_b(string):\n",
        "        # The string matches the pattern \"a followed by anything, ending in b\".\n",
        "        print(f'The string \"{string}\" matches the pattern \"a is followed by anything, ending in b\".')\n",
        "    else:\n",
        "        # The string does not match the pattern \"a followed by anything, ending in b\".\n",
        "        print(f'The string \"{string}\" does not match the pattern \"a is followed by anything, but does not end with b\".')\n"
      ],
      "metadata": {
        "colab": {
          "base_uri": "https://localhost:8080/"
        },
        "id": "E94zndtYn8Dn",
        "outputId": "d0918c71-959c-49d9-d3d6-392fd291d5a1"
      },
      "execution_count": 11,
      "outputs": [
        {
          "output_type": "stream",
          "name": "stdout",
          "text": [
            "The string \"abcdb\" matches the pattern \"a is followed by anything, ending in b\".\n",
            "The string \"a123b\" matches the pattern \"a is followed by anything, ending in b\".\n",
            "The string \"a1b\" matches the pattern \"a is followed by anything, ending in b\".\n",
            "The string \"a1b2\" does not match the pattern \"a is followed by anything, but does not end with b\".\n",
            "The string \"abb\" matches the pattern \"a is followed by anything, ending in b\".\n",
            "The string \"acd\" does not match the pattern \"a is followed by anything, but does not end with b\".\n",
            "The string \"bca\" does not match the pattern \"a is followed by anything, but does not end with b\".\n"
          ]
        }
      ]
    },
    {
      "cell_type": "markdown",
      "source": [
        "**Question 10**- Write a Python program that matches a word at the beginning of a string"
      ],
      "metadata": {
        "id": "Y1bk8CCfNBVd"
      }
    },
    {
      "cell_type": "code",
      "source": [
        "def match_word_at_beginning(string, word):\n",
        "    # Construct the regular expression pattern to match the word at the beginning of the string.\n",
        "    pattern = fr'^{word}\\b'\n",
        "\n",
        "    # Attempt to match the pattern with the given string.\n",
        "    match = re.match(pattern, string)\n",
        "\n",
        "    # Return True if there is a match (word is found at the beginning of the string), otherwise return False.\n",
        "    return match is not None\n",
        "\n",
        "# Example usage\n",
        "string1 = \"Hello, how are you?\"\n",
        "string2 = \"How are you, hello?\"\n",
        "word = \"Hello\"\n",
        "\n",
        "if match_word_at_beginning(string1, word):\n",
        "    # The word is found at the beginning of string1.\n",
        "    print(f'The word \"{word}\" is found at the beginning of string1.')\n",
        "else:\n",
        "    # The word is not found at the beginning of string1.\n",
        "    print(f'The word \"{word}\" is not found at the beginning of string1.')\n",
        "\n",
        "if match_word_at_beginning(string2, word):\n",
        "    # The word is found at the beginning of string2.\n",
        "    print(f'The word \"{word}\" is found at the beginning of string2.')\n",
        "else:\n",
        "    # The word is not found at the beginning of string2.\n",
        "    print(f'The word \"{word}\" is not found at the beginning of string2.')\n"
      ],
      "metadata": {
        "id": "PmX8F1_6o3Oj",
        "colab": {
          "base_uri": "https://localhost:8080/"
        },
        "outputId": "52e6de9c-5bfa-4cb3-8fca-6978ed9c585c"
      },
      "execution_count": 16,
      "outputs": [
        {
          "output_type": "stream",
          "name": "stdout",
          "text": [
            "The word \"Hello\" is found at the beginning of string1.\n",
            "The word \"Hello\" is not found at the beginning of string2.\n"
          ]
        }
      ]
    },
    {
      "cell_type": "markdown",
      "source": [
        "**Question 11**- Write a Python program to match a string that contains only upper and lowercase letters, numbers, and underscores."
      ],
      "metadata": {
        "id": "UOgO8dZi6bdg"
      }
    },
    {
      "cell_type": "code",
      "source": [
        "def contains_valid_characters(string):\n",
        "    # Define the regular expression pattern to match a string with only upper and lowercase letters, numbers, and underscores.\n",
        "    pattern = r'^[a-zA-Z0-9_]+$'\n",
        "\n",
        "    # Attempt to match the pattern with the given string.\n",
        "    match = re.match(pattern, string)\n",
        "\n",
        "    # Return True if there is a match (string contains only valid characters), otherwise return False.\n",
        "    return match is not None\n",
        "\n",
        "# Example usage\n",
        "strings = [\"Hello_fliprobo123\", \"Good_Morning!\", \"Test123_\", \"1234op56\", \"_Underscore_\", \"no spaces\"]\n",
        "\n",
        "for string in strings:\n",
        "    if contains_valid_characters(string):\n",
        "        # The string contains only valid characters.\n",
        "        print(f'The string \"{string}\" contains only upper and lowercase letters, numbers, and underscores.')\n",
        "    else:\n",
        "        # The string contains characters other than upper and lowercase letters, numbers, and underscores.\n",
        "        print(f'The string \"{string}\" contains characters other than upper and lowercase letters, numbers, and underscores.')\n"
      ],
      "metadata": {
        "colab": {
          "base_uri": "https://localhost:8080/"
        },
        "id": "cG-kokko5n10",
        "outputId": "f6a96720-d19d-4623-f1f5-59af3b0da73c"
      },
      "execution_count": 18,
      "outputs": [
        {
          "output_type": "stream",
          "name": "stdout",
          "text": [
            "The string \"Hello_fliprobo123\" contains only upper and lowercase letters, numbers, and underscores.\n",
            "The string \"Good_Morning!\" contains characters other than upper and lowercase letters, numbers, and underscores.\n",
            "The string \"Test123_\" contains only upper and lowercase letters, numbers, and underscores.\n",
            "The string \"1234op56\" contains only upper and lowercase letters, numbers, and underscores.\n",
            "The string \"_Underscore_\" contains only upper and lowercase letters, numbers, and underscores.\n",
            "The string \"no spaces\" contains characters other than upper and lowercase letters, numbers, and underscores.\n"
          ]
        }
      ]
    },
    {
      "cell_type": "markdown",
      "source": [
        "**Question 12**- Write a Python program where a string will start with a specific number."
      ],
      "metadata": {
        "id": "PowZAvFb7-CE"
      }
    },
    {
      "cell_type": "code",
      "source": [
        "def starts_with_number(string, number):\n",
        "    # Check if the string starts with the specified number.\n",
        "    return string.startswith(str(number))\n",
        "\n",
        "# Example usage\n",
        "string1 = \"42 is the answer to everything.\"\n",
        "string2 = \"The answer to everything is 23.\"\n",
        "number = 42\n",
        "\n",
        "if starts_with_number(string1, number):\n",
        "    # The string1 starts with the specified number.\n",
        "    print(f'The string \"{string1}\" starts with the number {number}.')\n",
        "else:\n",
        "    # The string1 does not start with the specified number.\n",
        "    print(f'The string \"{string1}\" does not start with the number {number}.')\n",
        "\n",
        "if starts_with_number(string2, number):\n",
        "    # The string2 starts with the specified number.\n",
        "    print(f'The string \"{string2}\" starts with the number {number}.')\n",
        "else:\n",
        "    # The string2 does not start with the specified number.\n",
        "    print(f'The string \"{string2}\" does not start with the number {number}.')\n"
      ],
      "metadata": {
        "colab": {
          "base_uri": "https://localhost:8080/"
        },
        "id": "Vp3ZcSEl74iK",
        "outputId": "a4a4b0eb-8e9b-485d-9865-054c687ce20a"
      },
      "execution_count": 20,
      "outputs": [
        {
          "output_type": "stream",
          "name": "stdout",
          "text": [
            "The string \"42 is the answer to everything.\" starts with the number 42.\n",
            "The string \"The answer to everything is 23.\" does not start with the number 42.\n"
          ]
        }
      ]
    },
    {
      "cell_type": "markdown",
      "source": [
        "**Question 13**- Write a Python program to remove leading zeros from an IP address"
      ],
      "metadata": {
        "id": "5Gcrl3vU9AIv"
      }
    },
    {
      "cell_type": "code",
      "source": [
        "def remove_leading_zeros(ip_address):\n",
        "    # Split the IP address into its octets.\n",
        "    octets = ip_address.split('.')\n",
        "\n",
        "    # Remove leading zeros from each octet.\n",
        "    octets_without_zeros = [str(int(octet)) for octet in octets]\n",
        "\n",
        "    # Join the octets back into an IP address.\n",
        "    ip_address_without_zeros = '.'.join(octets_without_zeros)\n",
        "\n",
        "    # Return the IP address without leading zeros.\n",
        "    return ip_address_without_zeros\n",
        "\n",
        "# Example usage\n",
        "ip_address = \"192.168.001.012\"\n",
        "result = remove_leading_zeros(ip_address)\n",
        "print(f'The IP address after removing leading zeros: {result}')\n"
      ],
      "metadata": {
        "colab": {
          "base_uri": "https://localhost:8080/"
        },
        "id": "GJubYbE68sPi",
        "outputId": "1f477bb3-1da7-476a-dc99-b33c38028b12"
      },
      "execution_count": 21,
      "outputs": [
        {
          "output_type": "stream",
          "name": "stdout",
          "text": [
            "The IP address after removing leading zeros: 192.168.1.12\n"
          ]
        }
      ]
    },
    {
      "cell_type": "markdown",
      "source": [
        "**Question 14**- Write a regular expression in python to match a date string in the form of Month name followed by day number and year stored in a text file.\n",
        "\n",
        "Sample text : ' On August 15th 1947 that India was declared independent from British colonialism, and the reins of control were handed over to the leaders of the Country’.\n",
        "\n",
        "Output- August 15th 1947\n",
        "\n",
        "Hint- Use re.match() method here\n"
      ],
      "metadata": {
        "id": "Vaq8hZ979WOj"
      }
    },
    {
      "cell_type": "code",
      "source": [
        "# Define a function to extract date from text\n",
        "def extract_date(text):\n",
        "\n",
        "    # Define the regular expression pattern to match the date string.\n",
        "    pattern = r'\\b[A-Z][a-z]+\\s\\d+(?:th|st|nd|rd)?\\s\\d{4}\\b'\n",
        "\n",
        "    # Use re.search() to find the first occurrence of the pattern in the text.\n",
        "    match = re.search(pattern, text)\n",
        "\n",
        "    if match:\n",
        "        # Return the matched date string.\n",
        "        return match.group()\n",
        "    else:\n",
        "        # Return None if no match is found.\n",
        "        return None\n",
        "\n",
        "# Sample text containing the date string\n",
        "text = \"On August 15th 1947 that India was declared independent from British colonialism, and the reins of control were handed over to the leaders of the Country.\"\n",
        "\n",
        "# Extract the date string from the sample text\n",
        "date_string = extract_date(text)\n",
        "\n",
        "if date_string:\n",
        "    print(f\"Date found in text is: {date_string}\")\n",
        "else:\n",
        "    print(\"No date string found in the text.\")\n"
      ],
      "metadata": {
        "colab": {
          "base_uri": "https://localhost:8080/"
        },
        "id": "c9YUVBzs9PXT",
        "outputId": "71e1993c-d320-40a4-db68-7b40fd398d8d"
      },
      "execution_count": 26,
      "outputs": [
        {
          "output_type": "stream",
          "name": "stdout",
          "text": [
            "Date found in text is: August 15th 1947\n"
          ]
        }
      ]
    },
    {
      "cell_type": "markdown",
      "source": [
        "**Question 15**- Write a Python program to search some literals strings in a string. Go to the editor\n",
        "\n",
        "Sample text : 'The quick brown fox jumps over the lazy dog.'\n",
        "\n",
        "Searched words : 'fox', 'dog', 'horse'\n"
      ],
      "metadata": {
        "id": "6nPMr8PP_WZw"
      }
    },
    {
      "cell_type": "code",
      "source": [
        "def search_literals(text, words):\n",
        "    found_words = []\n",
        "    for word in words:\n",
        "        if word in text:\n",
        "            found_words.append(word)\n",
        "    return found_words\n",
        "\n",
        "# Sample text\n",
        "text = 'The quick brown fox jumps over the lazy dog.'\n",
        "\n",
        "# Searched words\n",
        "searched_words = ['fox', 'dog', 'horse']\n",
        "\n",
        "# Search for the words in the text\n",
        "found_words = search_literals(text, searched_words)\n",
        "\n",
        "# Print the found words\n",
        "if found_words:\n",
        "    print(f\"The following words were found in the text: {', '.join(found_words)}\")\n",
        "else:\n",
        "    print(\"No matching words found in the text.\")\n"
      ],
      "metadata": {
        "colab": {
          "base_uri": "https://localhost:8080/"
        },
        "id": "K2r1w5xU92zN",
        "outputId": "e79ec22b-dd57-4c89-919b-42583ef5e5dd"
      },
      "execution_count": 27,
      "outputs": [
        {
          "output_type": "stream",
          "name": "stdout",
          "text": [
            "The following words were found in the text: fox, dog\n"
          ]
        }
      ]
    },
    {
      "cell_type": "markdown",
      "source": [
        "**Question 16**- Write a Python program to search a literals string in a string and also find the location within the original string where the pattern occurs\n",
        "\n",
        "Sample text : 'The quick brown fox jumps over the lazy dog.'\n",
        "\n",
        "Searched words : 'fox'\n"
      ],
      "metadata": {
        "id": "KvrNWZW5_yoX"
      }
    },
    {
      "cell_type": "code",
      "source": [
        "def search_literals_and_location(text, pattern):\n",
        "    found_locations = []\n",
        "    for match in re.finditer(pattern, text):\n",
        "        start = match.start()\n",
        "        end = match.end()\n",
        "        found_locations.append((start, end))\n",
        "    return found_locations\n",
        "\n",
        "# Sample text\n",
        "text = 'The quick brown fox jumps over the lazy dog.'\n",
        "\n",
        "# Searched pattern\n",
        "pattern = 'fox'\n",
        "\n",
        "# Search for the pattern in the text and find the locations\n",
        "found_locations = search_literals_and_location(text, pattern)\n",
        "\n",
        "# Print the found locations\n",
        "if found_locations:\n",
        "    for start, end in found_locations:\n",
        "        print(f\"The pattern '{pattern}' found at position {start} to {end} in the text.\")\n",
        "else:\n",
        "    print(f\"The pattern '{pattern}' not found in the text.\")\n"
      ],
      "metadata": {
        "colab": {
          "base_uri": "https://localhost:8080/"
        },
        "id": "ahqzAzu-_scY",
        "outputId": "e2e62205-828f-4c43-cbda-20ac32189c79"
      },
      "execution_count": 28,
      "outputs": [
        {
          "output_type": "stream",
          "name": "stdout",
          "text": [
            "The pattern 'fox' found at position 16 to 19 in the text.\n"
          ]
        }
      ]
    },
    {
      "cell_type": "markdown",
      "source": [
        "**Question 17**- Write a Python program to find the substrings within a string.\n",
        "\n",
        "Sample text : 'Python exercises, PHP exercises, C# exercises'\n",
        "\n",
        "Pattern : 'exercises'.\n"
      ],
      "metadata": {
        "id": "L3qH_QAyBE6y"
      }
    },
    {
      "cell_type": "code",
      "source": [
        "def find_substrings(text, pattern):\n",
        "\n",
        "    # Use re.findall() to find all occurrences of the pattern within the text\n",
        "    substrings = re.findall(pattern, text)\n",
        "    return substrings\n",
        "\n",
        "# Sample text\n",
        "text = 'Python exercises, PHP exercises, C# exercises'\n",
        "\n",
        "# Pattern to search for\n",
        "pattern = 'exercises'\n",
        "\n",
        "# Find the substrings in the text\n",
        "substrings = find_substrings(text, pattern)\n",
        "\n",
        "# Print the found substrings\n",
        "if substrings:\n",
        "    print(f\"The following substrings were found: {', '.join(substrings)}\")\n",
        "else:\n",
        "    print(\"No substrings found.\")\n"
      ],
      "metadata": {
        "colab": {
          "base_uri": "https://localhost:8080/"
        },
        "id": "-F5rBhVWARJm",
        "outputId": "73e545ef-1dd0-4bdb-deb7-d2d946c93170"
      },
      "execution_count": 33,
      "outputs": [
        {
          "output_type": "stream",
          "name": "stdout",
          "text": [
            "The following substrings were found: exercises, exercises, exercises\n"
          ]
        }
      ]
    },
    {
      "cell_type": "markdown",
      "source": [
        "**Question 18**- Write a Python program to find the occurrence and position of the substrings within a string."
      ],
      "metadata": {
        "id": "-7GXK6YPBeyp"
      }
    },
    {
      "cell_type": "code",
      "source": [
        "def find_substrings(text, pattern):\n",
        "    matches = []\n",
        "    for match in re.finditer(pattern, text):\n",
        "        start = match.start()\n",
        "        end = match.end()\n",
        "        substring = match.group()\n",
        "        matches.append((substring, start, end))\n",
        "    return matches\n",
        "\n",
        "# Sample text\n",
        "text = 'Python exercises, PHP exercises, C# exercises'\n",
        "\n",
        "# Pattern to search for\n",
        "pattern = 'exercises'\n",
        "\n",
        "# Find the substrings and their positions in the text\n",
        "substrings = find_substrings(text, pattern)\n",
        "\n",
        "# Prepare the list of positions for each substring\n",
        "positions = [f\"{start} to {end}\" for _, start, end in substrings]\n",
        "\n",
        "# Prepare the occurrence count\n",
        "occurrence = len(substrings)\n",
        "\n",
        "# Print the found substrings, occurrence, and positions\n",
        "if substrings:\n",
        "    print(f\"The substring '{pattern}' found {occurrence} time(s) at positions {', '.join(positions)} in the text.\")\n",
        "else:\n",
        "    print(\"No substrings found.\")\n"
      ],
      "metadata": {
        "colab": {
          "base_uri": "https://localhost:8080/"
        },
        "id": "DrkDFguBAqTK",
        "outputId": "a16d27e3-5a1f-4cbb-9bad-5f2814a50c16"
      },
      "execution_count": 36,
      "outputs": [
        {
          "output_type": "stream",
          "name": "stdout",
          "text": [
            "The substring 'exercises' found 3 time(s) at positions 7 to 16, 22 to 31, 36 to 45 in the text.\n"
          ]
        }
      ]
    },
    {
      "cell_type": "markdown",
      "source": [
        "**Question 19**- Write a Python program to convert a date of yyyy-mm-dd format to dd-mm-yyyy format."
      ],
      "metadata": {
        "id": "I7v67iBVCuuF"
      }
    },
    {
      "cell_type": "code",
      "source": [
        "def convert_date_format(date):\n",
        "    # Split the date into year, month, and day components\n",
        "    year, month, day = date.split('-')\n",
        "\n",
        "    # Reorder the components and join them using dashes\n",
        "    converted_date = f\"{day}-{month}-{year}\"\n",
        "\n",
        "    return converted_date\n",
        "\n",
        "# Example usage\n",
        "date = \"2022-05-15\"\n",
        "converted_date = convert_date_format(date)\n",
        "print(f\"The date {date} is formated and converted date to : {converted_date}\")\n"
      ],
      "metadata": {
        "colab": {
          "base_uri": "https://localhost:8080/"
        },
        "id": "EQP9yBOSB9Ws",
        "outputId": "c7e8bdf2-6f7d-4658-fba7-780f905a781f"
      },
      "execution_count": 39,
      "outputs": [
        {
          "output_type": "stream",
          "name": "stdout",
          "text": [
            "The date 2022-05-15 is formated and converted date to : 15-05-2022\n"
          ]
        }
      ]
    },
    {
      "cell_type": "markdown",
      "source": [
        "**Question 20**- Write a Python program to find all words starting with 'a' or 'e' in a given string."
      ],
      "metadata": {
        "id": "Hlb1qdTvDbWh"
      }
    },
    {
      "cell_type": "code",
      "source": [
        "# Define a function that find all words starting with 'a' of 'e' in a given string\n",
        "\n",
        "def find_words(text):\n",
        "\n",
        "    # Use regular expression to find words starting with 'a' or 'e'\n",
        "    pattern = r'\\b[aAeE]\\w+'\n",
        "    words_found = re.findall(pattern, text)\n",
        "    return words_found\n",
        "\n",
        "# Example usage\n",
        "text = \"Apples and oranges are fruits, while elephants are animals\"\n",
        "words = find_words(text)\n",
        "print(f\"The words starting with 'a' or 'e' in '{text}' are: {', '.join(words)}\")\n"
      ],
      "metadata": {
        "colab": {
          "base_uri": "https://localhost:8080/"
        },
        "id": "PsUb8V2JCmgc",
        "outputId": "a72f2038-68bd-4141-b9ef-a73c3e62655f"
      },
      "execution_count": 49,
      "outputs": [
        {
          "output_type": "stream",
          "name": "stdout",
          "text": [
            "The words starting with 'a' or 'e' in 'Apples and oranges are fruits, while elephants are animals' are: Apples, and, are, elephants, are, animals\n"
          ]
        }
      ]
    },
    {
      "cell_type": "markdown",
      "source": [
        "**Question 21**- Write a Python program to separate and print the numbers and their position of a given string."
      ],
      "metadata": {
        "id": "Hf35C4hsHp4L"
      }
    },
    {
      "cell_type": "code",
      "source": [
        "import pandas as pd\n",
        "\n",
        "def separate_numbers_with_position(text):\n",
        "    # Use regular expression to find numbers and their positions\n",
        "    pattern = r'\\b\\d+\\b'\n",
        "    numbers_with_position = [(match.group(), match.start()) for match in re.finditer(pattern, text)]\n",
        "    return numbers_with_position\n",
        "\n",
        "# Example usage\n",
        "text = \"I have 5 apples and 3 oranges. All together I have 8 fruits.\"\n",
        "numbers = separate_numbers_with_position(text)\n",
        "\n",
        "# Create a DataFrame from the numbers and their positions\n",
        "df = pd.DataFrame(numbers, columns=[\"Number\", \"Position Index\"])\n",
        "\n",
        "# Print the output\n",
        "print(\"Numbers and their positions:\")\n",
        "print(df.to_string(index=False))"
      ],
      "metadata": {
        "colab": {
          "base_uri": "https://localhost:8080/"
        },
        "id": "mqCMNUOuD8jt",
        "outputId": "c8850750-377e-4abe-f784-5ee00b5d3c8c"
      },
      "execution_count": 62,
      "outputs": [
        {
          "output_type": "stream",
          "name": "stdout",
          "text": [
            "Numbers and their positions:\n",
            "Number  Position Index\n",
            "     5               7\n",
            "     3              20\n",
            "     8              51\n"
          ]
        }
      ]
    },
    {
      "cell_type": "markdown",
      "source": [
        "**Question 22**- Write a regular expression in python program to extract maximum numeric value from a string"
      ],
      "metadata": {
        "id": "4I9NvMOWSw2m"
      }
    },
    {
      "cell_type": "code",
      "source": [
        "def extract_maximum_numeric_value(text):\n",
        "    # Use regular expression to find all numeric values in the string\n",
        "    pattern = r'\\b\\d+\\b'\n",
        "    numeric_values = re.findall(pattern, text)\n",
        "\n",
        "    # Convert the numeric values to integers and return the maximum\n",
        "    if numeric_values:\n",
        "        numeric_values = [int(value) for value in numeric_values]\n",
        "        maximum_value = max(numeric_values)\n",
        "        return maximum_value\n",
        "\n",
        "    # Return None if no numeric values are found\n",
        "    return None\n",
        "\n",
        "# Example usage\n",
        "text = \"The maximum value is 42, but there are also 17 and 99.\"\n",
        "maximum_value = extract_maximum_numeric_value(text)\n",
        "\n",
        "if maximum_value is not None:\n",
        "    print(f\"The maximum numeric value in the text '{text}' is: {maximum_value}\")\n",
        "else:\n",
        "    print(\"No numeric values found in the text.\")\n"
      ],
      "metadata": {
        "colab": {
          "base_uri": "https://localhost:8080/"
        },
        "id": "wtHVrKtXNAW-",
        "outputId": "4f7a804c-3303-4afe-cb1d-1df4fd179a27"
      },
      "execution_count": 65,
      "outputs": [
        {
          "output_type": "stream",
          "name": "stdout",
          "text": [
            "The maximum numeric value in the text 'The maximum value is 42, but there are also 17 and 99.' is: 99\n"
          ]
        }
      ]
    },
    {
      "cell_type": "markdown",
      "source": [
        "**Question 23**- Write a Regex in Python to put spaces between words starting with capital letters"
      ],
      "metadata": {
        "id": "LooNBvh1WutH"
      }
    },
    {
      "cell_type": "code",
      "source": [
        "def add_spaces_between_capital_words(text):\n",
        "    # Use regular expression to add spaces between words starting with capital letters\n",
        "    pattern = r'(?<!^)(?=[A-Z])'\n",
        "    modified_text = re.sub(pattern, ' ', text)\n",
        "    return modified_text\n",
        "\n",
        "# Example usage\n",
        "text = \"ThisIsARegularExpressionExampleTest\"\n",
        "modified_text = add_spaces_between_capital_words(text)\n",
        "print(f\"The modified text is: {modified_text}\")\n"
      ],
      "metadata": {
        "colab": {
          "base_uri": "https://localhost:8080/"
        },
        "id": "4j8TGuxEWisO",
        "outputId": "2b878f7c-71da-48a9-aa05-09a9cca03d0b"
      },
      "execution_count": 69,
      "outputs": [
        {
          "output_type": "stream",
          "name": "stdout",
          "text": [
            "The modified text is: This Is A Regular Expression Example Test\n"
          ]
        }
      ]
    },
    {
      "cell_type": "markdown",
      "source": [
        "**Question 24**- Python regex to find sequences of one upper case letter followed by lower case letters"
      ],
      "metadata": {
        "id": "nJLXwt9HYpTU"
      }
    },
    {
      "cell_type": "code",
      "source": [
        "# Define a function to find the sequence of one Upper letter followed by lower case letter\n",
        "def find_sequences(text):\n",
        "    # Use regular expression to find sequences of one uppercase letter followed by lowercase letters\n",
        "    pattern = r'[A-Z][a-z]+'\n",
        "    sequences = re.findall(pattern, text)\n",
        "    return sequences\n",
        "\n",
        "# Example usage\n",
        "text = \"The Quick Brown FOX Jumps Over The Lazy DOG\"\n",
        "sequences = find_sequences(text)\n",
        "print(f\"The sequences of one uppercase letter followed by lowercase letters are: {sequences}\")\n"
      ],
      "metadata": {
        "colab": {
          "base_uri": "https://localhost:8080/"
        },
        "id": "w-lzwj40YWu-",
        "outputId": "8e0c5738-d5d1-41fb-dd4c-e5a12de67cc5"
      },
      "execution_count": 74,
      "outputs": [
        {
          "output_type": "stream",
          "name": "stdout",
          "text": [
            "The sequences of one uppercase letter followed by lowercase letters are: ['The', 'Quick', 'Brown', 'Jumps', 'Over', 'The', 'Lazy']\n"
          ]
        }
      ]
    },
    {
      "cell_type": "markdown",
      "source": [
        "**Question 25**- Write a Python program to remove duplicate words from Sentence using Regular Expression"
      ],
      "metadata": {
        "id": "euKQQC6DaXRd"
      }
    },
    {
      "cell_type": "code",
      "source": [
        "def remove_duplicate_words(sentence):\n",
        "    # Convert the sentence to lowercase for case-insensitive matching\n",
        "    sentence = sentence.lower()\n",
        "\n",
        "    # Use regular expression to find all words\n",
        "    words = re.findall(r'\\b\\w+\\b', sentence)\n",
        "\n",
        "    # Create a dictionary to store word counts\n",
        "    word_counts = {}\n",
        "    for word in words:\n",
        "        if word in word_counts:\n",
        "            word_counts[word] += 1\n",
        "        else:\n",
        "            word_counts[word] = 1\n",
        "\n",
        "    # Print duplicate words and their counts\n",
        "    print(\"Duplicate words and their counts:\")\n",
        "    for word, count in word_counts.items():\n",
        "        if count > 1:\n",
        "            print(f\"Word: {word}, Count: {count}\")\n",
        "\n",
        "    # Remove duplicate words from the sentence\n",
        "    unique_words = []\n",
        "    for word in words:\n",
        "        if word not in unique_words:\n",
        "            unique_words.append(word)\n",
        "\n",
        "    modified_sentence = ' '.join(unique_words)\n",
        "\n",
        "    # Capitalize the first letter of the modified sentence\n",
        "    modified_sentence = modified_sentence.capitalize()\n",
        "\n",
        "    return modified_sentence\n",
        "\n",
        "# Example usage\n",
        "sentence = \"The cat sat on the mat and the cat purred.\"\n",
        "modified_sentence = remove_duplicate_words(sentence)\n",
        "print(\"Duplicate words and their counts:\")\n",
        "print(f\"\\nThe modified sentence is: {modified_sentence}\")\n"
      ],
      "metadata": {
        "colab": {
          "base_uri": "https://localhost:8080/"
        },
        "id": "oa9DTG0Gap8G",
        "outputId": "101d973d-53f5-4bba-cfc1-e6f2c9ea7eaa"
      },
      "execution_count": 87,
      "outputs": [
        {
          "output_type": "stream",
          "name": "stdout",
          "text": [
            "Duplicate words and their counts:\n",
            "Word: the, Count: 3\n",
            "Word: cat, Count: 2\n",
            "Duplicate words and their counts:\n",
            "\n",
            "The modified sentence is: The cat sat on mat and purred\n"
          ]
        }
      ]
    },
    {
      "cell_type": "markdown",
      "source": [
        "**Question 26**-  Write a python program using RegEx to accept string ending with alphanumeric character."
      ],
      "metadata": {
        "id": "1-QZfU5Se8Jb"
      }
    },
    {
      "cell_type": "code",
      "source": [
        "def accept_ending_alphanumeric(string):\n",
        "    # Define the regular expression pattern to match a string ending with an alphanumeric character\n",
        "    pattern = r'^.*[a-zA-Z0-9]$'\n",
        "\n",
        "    # Use the re.match() function to check if the string matches the pattern\n",
        "    match = re.match(pattern, string)\n",
        "\n",
        "    # Return True if there is a match, otherwise return False\n",
        "    return match is not None\n",
        "\n",
        "# Example usage\n",
        "strings = [\"Hello123\", \"GoodMorning!\", \"Test567\", \"1234\", \"Hello World\"]\n",
        "\n",
        "for string in strings:\n",
        "    if accept_ending_alphanumeric(string):\n",
        "        print(f'The string \"{string}\" ends with an alphanumeric character.')\n",
        "    else:\n",
        "        print(f'The string \"{string}\" does not end with an alphanumeric character.')\n"
      ],
      "metadata": {
        "colab": {
          "base_uri": "https://localhost:8080/"
        },
        "id": "5DHokGFibBkF",
        "outputId": "264c59a5-147e-4994-f6ff-0248a32bdfe3"
      },
      "execution_count": 88,
      "outputs": [
        {
          "output_type": "stream",
          "name": "stdout",
          "text": [
            "The string \"Hello123\" ends with an alphanumeric character.\n",
            "The string \"GoodMorning!\" does not end with an alphanumeric character.\n",
            "The string \"Test567\" ends with an alphanumeric character.\n",
            "The string \"1234\" ends with an alphanumeric character.\n",
            "The string \"Hello World\" ends with an alphanumeric character.\n"
          ]
        }
      ]
    },
    {
      "cell_type": "markdown",
      "source": [
        "**Question 27**-Write a python program using RegEx to extract the hashtags.\n",
        "\n",
        "Sample Text: text = \"\"\"RT @kapil_kausik: #Doltiwal I mean #xyzabc is \"hurt\" by #Demonetization as the same has rendered USELESS <ed><U+00A0><U+00BD><ed><U+00B1><U+0089> \"acquired funds\" No wo\"\"\"\n",
        "\n",
        "Output: ['#Doltiwal', '#xyzabc', '#Demonetization']\n"
      ],
      "metadata": {
        "id": "Ih8y2oJXhHcW"
      }
    },
    {
      "cell_type": "code",
      "source": [
        "def extract_hashtags(text):\n",
        "    # Define the regular expression pattern to match hashtags\n",
        "    pattern = r'#\\w+'\n",
        "\n",
        "    # Use the re.findall() function to extract all hashtags from the text\n",
        "    hashtags = re.findall(pattern, text)\n",
        "\n",
        "    # Return the list of extracted hashtags\n",
        "    return hashtags\n",
        "\n",
        "# Example usage\n",
        "sample_text = \"\"\"RT @kapil_kausik: #Doltiwal I mean #xyzabc is \"hurt\" by #Demonetization as the same has rendered USELESS <U+00A0><U+00BD><U+00B1><U+0089> \"acquired funds\" No wo\"\"\"\n",
        "hashtags = extract_hashtags(sample_text)\n",
        "\n",
        "print(f'sample text = \"{sample_text}\"')\n",
        "print(f\"\\nThe extracted hashtags in sample text are: {hashtags}\")\n"
      ],
      "metadata": {
        "colab": {
          "base_uri": "https://localhost:8080/"
        },
        "id": "TyCep_dAecxl",
        "outputId": "96a5b57c-0824-44df-cc10-74f5e630e372"
      },
      "execution_count": 102,
      "outputs": [
        {
          "output_type": "stream",
          "name": "stdout",
          "text": [
            "sample text = \"RT @kapil_kausik: #Doltiwal I mean #xyzabc is \"hurt\" by #Demonetization as the same has rendered USELESS <U+00A0><U+00BD><U+00B1><U+0089> \"acquired funds\" No wo\"\n",
            "\n",
            "The extracted hashtags in sample text are: ['#Doltiwal', '#xyzabc', '#Demonetization']\n"
          ]
        }
      ]
    },
    {
      "cell_type": "markdown",
      "source": [
        "**Question 28-** Write a python program using RegEx to remove <U+..> like symbols\n",
        "Check the below sample text, there are strange symbols something of the sort <U+..> all over the place. You need to come up with a general Regex expression that will cover all such symbols.\n",
        "\n",
        "Sample Text: \"@Jags123456 Bharat band on 28??<ed><U+00A0><U+00BD><ed><U+00B8><U+0082>Those who  are protesting #demonetization  are all different party leaders\"\n",
        "\n",
        "Output: @Jags123456 Bharat band on 28??<ed><ed>Those who  are protesting #demonetization  are all different party leaders\n"
      ],
      "metadata": {
        "id": "zegkJ0SQjhqo"
      }
    },
    {
      "cell_type": "code",
      "source": [
        "def remove_special_symbols(text):\n",
        "    # Define the regular expression pattern to match <U+..> symbols\n",
        "    pattern = r'<U\\+[A-Fa-f0-9]{4}>'\n",
        "\n",
        "    # Use the re.sub() function to remove the symbols from the text\n",
        "    cleaned_text = re.sub(pattern, '', text)\n",
        "\n",
        "    # Return the cleaned text\n",
        "    return cleaned_text\n",
        "\n",
        "# Example usage\n",
        "sample_text = \"@Jags123456 Bharat band on 28??<U+00A0><U+00BD><U+00B8><U+0082>Those who are protesting #demonetization are all different party leaders\"\n",
        "cleaned_text = remove_special_symbols(sample_text)\n",
        "\n",
        "print(f'sample text = \"{sample_text}\"')\n",
        "print(f\"\\nThe modified text after removing special symbol is: \\n{cleaned_text}\")\n"
      ],
      "metadata": {
        "colab": {
          "base_uri": "https://localhost:8080/"
        },
        "id": "RYJw6Grjhd0A",
        "outputId": "98c6dc45-c78b-4527-f648-71245aa5401f"
      },
      "execution_count": 107,
      "outputs": [
        {
          "output_type": "stream",
          "name": "stdout",
          "text": [
            "sample text = \"@Jags123456 Bharat band on 28??<U+00A0><U+00BD><U+00B8><U+0082>Those who are protesting #demonetization are all different party leaders\"\n",
            "\n",
            "The modified text after removing special symbol is: \n",
            "@Jags123456 Bharat band on 28??Those who are protesting #demonetization are all different party leaders\n"
          ]
        }
      ]
    },
    {
      "cell_type": "markdown",
      "source": [
        "**Question 29**- Write a python program to extract dates from the text stored in the text file.\n",
        "\n",
        "Sample Text: Ron was born on 12-09-1992 and he was admitted to school 15-12-1999.\n",
        "\n",
        "Store this sample text in the file and then extract dates.\n"
      ],
      "metadata": {
        "id": "NFw0tSOPkOch"
      }
    },
    {
      "cell_type": "code",
      "source": [
        "def extract_dates_from_file(file_path):\n",
        "    # Read the contents of the text file\n",
        "    with open(file_path, 'r') as file:\n",
        "        text = file.read()\n",
        "\n",
        "    # Define the regular expression pattern to match dates in the format dd-mm-yyyy\n",
        "    pattern = r'\\d{2}-\\d{2}-\\d{4}'\n",
        "\n",
        "    # Use the re.findall() function to extract all dates from the text\n",
        "    dates = re.findall(pattern, text)\n",
        "\n",
        "    # Return the list of extracted dates\n",
        "    return dates\n",
        "\n",
        "# Store the sample text in a file\n",
        "file_path = \"sample_text.txt\"\n",
        "sample_text = \"Ron was born on 12-09-1992 and he was admitted to school 15-12-1999.\"\n",
        "with open(file_path, 'w') as file:\n",
        "    file.write(sample_text)\n",
        "\n",
        "# Extract dates from the file\n",
        "dates = extract_dates_from_file(file_path)\n",
        "print(f\"The extracted dates from the file '{file_path}' are: {dates}\")\n"
      ],
      "metadata": {
        "colab": {
          "base_uri": "https://localhost:8080/"
        },
        "id": "0xenNy-Gj4fO",
        "outputId": "1e18c06b-27e9-4cd0-e3fb-fa8c41cac099"
      },
      "execution_count": 110,
      "outputs": [
        {
          "output_type": "stream",
          "name": "stdout",
          "text": [
            "The extracted dates from the file 'sample_text.txt' are: ['12-09-1992', '15-12-1999']\n"
          ]
        }
      ]
    },
    {
      "cell_type": "markdown",
      "source": [
        "**Question 30**- Write a Python program to replace all occurrences of a space, comma, or dot with a colon.\n",
        "\n",
        "Sample Text- 'Python Exercises, PHP exercises.'\n",
        "\n",
        "Output: Python:Exercises::PHP:exercises:\n"
      ],
      "metadata": {
        "id": "6qlF3HFqlmpD"
      }
    },
    {
      "cell_type": "code",
      "source": [
        "def replace_symbols(text):\n",
        "    # Use the replace() method to replace spaces, commas, and dots with colons\n",
        "    replaced_text = text.replace(' ', ':').replace(',', ':').replace('.', ':')\n",
        "\n",
        "    # Return the modified text\n",
        "    return replaced_text\n",
        "\n",
        "# Example usage\n",
        "sample_text = 'Python dot,om Exercises, PHP dot,com exercises.'\n",
        "modified_text = replace_symbols(sample_text)\n",
        "\n",
        "print(f'sample text = {sample_text}')\n",
        "print(f\"The modified text is: {modified_text}\")\n"
      ],
      "metadata": {
        "colab": {
          "base_uri": "https://localhost:8080/"
        },
        "id": "15SeNZpRkicH",
        "outputId": "1e391dc3-f280-4fca-b46f-67bce0f298d5"
      },
      "execution_count": 118,
      "outputs": [
        {
          "output_type": "stream",
          "name": "stdout",
          "text": [
            "sample text = Python dot,om Exercises, PHP dot,com exercises.\n",
            "The modified text is: Python:dot:om:Exercises::PHP:dot:com:exercises:\n"
          ]
        }
      ]
    },
    {
      "cell_type": "code",
      "source": [],
      "metadata": {
        "id": "PV4j2QcfmHYX"
      },
      "execution_count": null,
      "outputs": []
    }
  ]
}